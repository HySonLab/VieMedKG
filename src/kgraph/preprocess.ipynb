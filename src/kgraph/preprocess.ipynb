{
 "cells": [
  {
   "cell_type": "code",
   "execution_count": null,
   "metadata": {},
   "outputs": [],
   "source": [
    "import pandas as pd\n",
    "import numpy as np \n",
    "df = pd.read_csv(\"data_translated.csv\", encoding='utf-8')\n",
    "df.head()"
   ]
  },
  {
   "cell_type": "code",
   "execution_count": null,
   "metadata": {},
   "outputs": [],
   "source": [
    "# drop duplicate rows and drop rows with value of column disease_name is disease_name\n",
    "df = df.drop_duplicates()\n",
    "df = df[df['disease_name'] != 'disease_name']\n"
   ]
  },
  {
   "cell_type": "code",
   "execution_count": null,
   "metadata": {},
   "outputs": [],
   "source": [
    "#write a function to count % of missing value in each column, chắc cái này đợi merge r xem xét drop\n",
    "def count_missing_value(df):\n",
    "    total = df.isnull().sum().sort_values(ascending = False)\n",
    "    percent = (df.isnull().sum()/df.isnull().count()*100).sort_values(ascending = False)\n",
    "    return pd.concat([total, percent], axis=1, keys=['Total', 'Percent'])\n",
    "count_missing_value(df)"
   ]
  },
  {
   "cell_type": "code",
   "execution_count": null,
   "metadata": {},
   "outputs": [],
   "source": [
    "# Replace Null value with \"Không có thông tin\"\n",
    "def replace_empty_list(cell):\n",
    "    if isinstance(cell, list) and len(cell) == 0:\n",
    "        return np.nan\n",
    "    return cell\n",
    "\n",
    "# Apply the function to the entire DataFrame\n",
    "df = df.applymap(replace_empty_list)\n",
    "df"
   ]
  },
  {
   "cell_type": "code",
   "execution_count": null,
   "metadata": {},
   "outputs": [],
   "source": [
    "# Replace (number) by number.\n",
    "df = df.apply(lambda x: x.str.replace('\\((\\d+)\\)', r'\\1. ', regex=True))\n",
    "df "
   ]
  },
  {
   "cell_type": "code",
   "execution_count": null,
   "metadata": {},
   "outputs": [],
   "source": [
    "# convert from list to string format in every cell, delete \", \" if it is in the last element of string \n",
    "def remove_brackets(text):\n",
    "    if text.startswith('[') and text.endswith(']'):\n",
    "        text = text[1:-1]\n",
    "        text = text.replace(\"'\", \"\").replace('\"', '').replace(\"..\", \".\")\n",
    "        return text\n",
    "    elif text.startswith('['):\n",
    "        text = text[1:]\n",
    "        text = text.replace(\"'\", \"\").replace('\"', '').replace(\"\\\\\", \"\").replace(\"..\", \".\")\n",
    "        return text\n",
    "    else:\n",
    "        text = text.replace(\"..\", \".\")\n",
    "        return text\n",
    "\n",
    "# Remove '[' and ']' from the start and end of strings in all columns\n",
    "df = df.applymap(remove_brackets)\n",
    "df"
   ]
  },
  {
   "cell_type": "code",
   "execution_count": null,
   "metadata": {},
   "outputs": [],
   "source": [
    "df.to_csv(\"data_translated.csv\")"
   ]
  }
 ],
 "metadata": {
  "kernelspec": {
   "display_name": "test",
   "language": "python",
   "name": "python3"
  },
  "language_info": {
   "codemirror_mode": {
    "name": "ipython",
    "version": 3
   },
   "file_extension": ".py",
   "mimetype": "text/x-python",
   "name": "python",
   "nbconvert_exporter": "python",
   "pygments_lexer": "ipython3",
   "version": "3.10.13"
  }
 },
 "nbformat": 4,
 "nbformat_minor": 2
}
